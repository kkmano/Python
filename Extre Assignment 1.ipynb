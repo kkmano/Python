{
 "cells": [
  {
   "cell_type": "code",
   "execution_count": 1,
   "id": "8baa57e7",
   "metadata": {},
   "outputs": [
    {
     "name": "stdout",
     "output_type": "stream",
     "text": [
      "HOPE AI\n"
     ]
    }
   ],
   "source": [
    "print(\"HOPE AI\")"
   ]
  },
  {
   "cell_type": "code",
   "execution_count": 6,
   "id": "8b70bb82",
   "metadata": {},
   "outputs": [
    {
     "name": "stdout",
     "output_type": "stream",
     "text": [
      "Enter The Value:HOPE AI\n"
     ]
    }
   ],
   "source": [
    "Enter_Your_Institute_Name=input(\"Enter The Value:\")\n",
    "    "
   ]
  },
  {
   "cell_type": "code",
   "execution_count": 7,
   "id": "6f25bd92",
   "metadata": {},
   "outputs": [
    {
     "name": "stdout",
     "output_type": "stream",
     "text": [
      "Enter The Value:Manoj Krishnakumar\n"
     ]
    }
   ],
   "source": [
    "Enter_Your_Name=input(\"Enter The Value:\")"
   ]
  },
  {
   "cell_type": "code",
   "execution_count": 8,
   "id": "f215a4c9",
   "metadata": {},
   "outputs": [
    {
     "name": "stdout",
     "output_type": "stream",
     "text": [
      "Enter The Value:27\n"
     ]
    }
   ],
   "source": [
    "Enter_Your_Age=int(input(\"Enter The Value:\"))"
   ]
  },
  {
   "cell_type": "code",
   "execution_count": 9,
   "id": "9ea5394f",
   "metadata": {},
   "outputs": [
    {
     "name": "stdout",
     "output_type": "stream",
     "text": [
      "Enter The Value:M.K.H.S.S\n"
     ]
    }
   ],
   "source": [
    "Enter_Your_School=input(\"Enter The Value:\")"
   ]
  },
  {
   "cell_type": "code",
   "execution_count": 10,
   "id": "fdac114b",
   "metadata": {},
   "outputs": [
    {
     "name": "stdout",
     "output_type": "stream",
     "text": [
      "Enter The Value:B.E (Civil Engineering)\n"
     ]
    }
   ],
   "source": [
    "Enter_Your_Degree=input(\"Enter The Value:\")"
   ]
  },
  {
   "cell_type": "code",
   "execution_count": 11,
   "id": "95bf4fd9",
   "metadata": {},
   "outputs": [
    {
     "name": "stdout",
     "output_type": "stream",
     "text": [
      "Add\n",
      "77\n"
     ]
    }
   ],
   "source": [
    "a=43\n",
    "b=34\n",
    "Add=a+b\n",
    "print(\"Add\")\n",
    "print(Add)"
   ]
  },
  {
   "cell_type": "code",
   "execution_count": 14,
   "id": "ab20d5b0",
   "metadata": {},
   "outputs": [
    {
     "name": "stdout",
     "output_type": "stream",
     "text": [
      "Subtraction\n",
      "9\n"
     ]
    }
   ],
   "source": [
    "Subtraction=a-b\n",
    "print(\"Subtraction\")\n",
    "print(Subtraction)"
   ]
  },
  {
   "cell_type": "code",
   "execution_count": 15,
   "id": "c915d0c8",
   "metadata": {},
   "outputs": [
    {
     "name": "stdout",
     "output_type": "stream",
     "text": [
      "Multipication\n",
      "6111\n"
     ]
    }
   ],
   "source": [
    "a=63\n",
    "b=97\n",
    "Multipication=a*b\n",
    "print(\"Multipication\")\n",
    "print(Multipication)\n"
   ]
  },
  {
   "cell_type": "code",
   "execution_count": 16,
   "id": "e095f20a",
   "metadata": {},
   "outputs": [
    {
     "name": "stdout",
     "output_type": "stream",
     "text": [
      "division\n",
      "2.4516129032258065\n"
     ]
    }
   ],
   "source": [
    "a=76\n",
    "b=31\n",
    "Division=a/b\n",
    "print(\"division\")\n",
    "print(Division)"
   ]
  },
  {
   "cell_type": "code",
   "execution_count": 22,
   "id": "4bb725ab",
   "metadata": {},
   "outputs": [
    {
     "name": "stdout",
     "output_type": "stream",
     "text": [
      "Floor_Division\n",
      "2\n"
     ]
    }
   ],
   "source": [
    "a=76\n",
    "b=31\n",
    "Floor_Division=(a//b)\n",
    "print(\"Floor_Division\")\n",
    "print(Floor_Division)"
   ]
  },
  {
   "cell_type": "code",
   "execution_count": 23,
   "id": "b82c416a",
   "metadata": {},
   "outputs": [
    {
     "name": "stdout",
     "output_type": "stream",
     "text": [
      "Modulo\n",
      "14\n"
     ]
    }
   ],
   "source": [
    "a=76\n",
    "b=31\n",
    "Modulo=a%b\n",
    "print(\"Modulo\")\n",
    "print(Modulo)"
   ]
  },
  {
   "cell_type": "code",
   "execution_count": 25,
   "id": "826769d8",
   "metadata": {},
   "outputs": [
    {
     "name": "stdout",
     "output_type": "stream",
     "text": [
      "Power\n",
      "256\n"
     ]
    }
   ],
   "source": [
    "a=4\n",
    "b=4\n",
    "Power=a**b\n",
    "print(\"Power\")\n",
    "print(Power)"
   ]
  },
  {
   "cell_type": "code",
   "execution_count": null,
   "id": "6ccc9fb2",
   "metadata": {},
   "outputs": [],
   "source": []
  }
 ],
 "metadata": {
  "kernelspec": {
   "display_name": "Python 3 (ipykernel)",
   "language": "python",
   "name": "python3"
  },
  "language_info": {
   "codemirror_mode": {
    "name": "ipython",
    "version": 3
   },
   "file_extension": ".py",
   "mimetype": "text/x-python",
   "name": "python",
   "nbconvert_exporter": "python",
   "pygments_lexer": "ipython3",
   "version": "3.10.9"
  }
 },
 "nbformat": 4,
 "nbformat_minor": 5
}
