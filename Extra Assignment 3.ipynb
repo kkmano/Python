{
 "cells": [
  {
   "cell_type": "code",
   "execution_count": 8,
   "id": "6036f86a",
   "metadata": {},
   "outputs": [
    {
     "name": "stdout",
     "output_type": "stream",
     "text": [
      "correct\n",
      "10\n"
     ]
    }
   ],
   "source": [
    "value=10\n",
    "if(i==10):\n",
    "    print(\"correct\")\n",
    "    print(value)"
   ]
  },
  {
   "cell_type": "code",
   "execution_count": 9,
   "id": "af793c93",
   "metadata": {},
   "outputs": [
    {
     "name": "stdout",
     "output_type": "stream",
     "text": [
      "Enter The Value:hope@123\n",
      "Your password is incorrect\n"
     ]
    }
   ],
   "source": [
    "password=input(\"Enter The Value:\")\n",
    "if(password==\"HOPE@123\"):\n",
    "    print(\"Your password is correct\")\n",
    "else:\n",
    "    print(\"Your password is incorrect\")"
   ]
  },
  {
   "cell_type": "code",
   "execution_count": 10,
   "id": "677d8ad4",
   "metadata": {},
   "outputs": [
    {
     "name": "stdout",
     "output_type": "stream",
     "text": [
      "Adult\n",
      "citizen\n",
      "citizen\n",
      "senior citizen\n",
      "senior citizen\n"
     ]
    }
   ],
   "source": [
    "list=[23,35,45,56,67]\n",
    "for age in list:\n",
    "    if(age<18):\n",
    "        print(\"teenage\")\n",
    "    elif(age<30):\n",
    "        print(\"Adult\")\n",
    "    elif(age<50):\n",
    "        print(\"citizen\")\n",
    "    else:\n",
    "        print(\"senior citizen\")"
   ]
  },
  {
   "cell_type": "code",
   "execution_count": 11,
   "id": "2bca20d2",
   "metadata": {},
   "outputs": [
    {
     "name": "stdout",
     "output_type": "stream",
     "text": [
      "positive\n",
      "positive\n",
      "positive\n",
      "positive\n",
      "Negative\n",
      "Negative\n",
      "Negative\n"
     ]
    }
   ],
   "source": [
    "list=[12,13,14,15,-14,-20,-22]\n",
    "for num in list:\n",
    "    if(num>0):\n",
    "        print(\"positive\")\n",
    "    else:\n",
    "        print(\"Negative\")"
   ]
  },
  {
   "cell_type": "code",
   "execution_count": 14,
   "id": "3cb1dc44",
   "metadata": {},
   "outputs": [
    {
     "name": "stdout",
     "output_type": "stream",
     "text": [
      "No is not divisible by 5\n",
      "No is not divisible by 5\n",
      "No is not divisible by 5\n",
      "No is not divisible by 5\n",
      "No is not divisible by 5\n",
      "No is divisible by 5\n",
      "No is divisible by 5\n",
      "No is divisible by 5\n",
      "No is divisible by 5\n"
     ]
    }
   ],
   "source": [
    "list=[21,21,22,23,14,45,50,5,25]\n",
    "for Num in list:\n",
    "    if((Num%5)==0):\n",
    "        print(\"No is divisible by 5\")\n",
    "    else:\n",
    "        print(\"No is not divisible by 5\")"
   ]
  },
  {
   "cell_type": "code",
   "execution_count": null,
   "id": "1661ad50",
   "metadata": {},
   "outputs": [],
   "source": []
  }
 ],
 "metadata": {
  "kernelspec": {
   "display_name": "Python 3 (ipykernel)",
   "language": "python",
   "name": "python3"
  },
  "language_info": {
   "codemirror_mode": {
    "name": "ipython",
    "version": 3
   },
   "file_extension": ".py",
   "mimetype": "text/x-python",
   "name": "python",
   "nbconvert_exporter": "python",
   "pygments_lexer": "ipython3",
   "version": "3.10.9"
  }
 },
 "nbformat": 4,
 "nbformat_minor": 5
}
