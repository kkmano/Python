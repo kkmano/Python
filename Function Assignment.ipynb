{
 "cells": [
  {
   "cell_type": "code",
   "execution_count": 34,
   "id": "035fedbf",
   "metadata": {},
   "outputs": [],
   "source": [
    "def oddeven():\n",
    "    Number=int(input(\"Enter the value:\"))\n",
    "    if((Number%2)==1):\n",
    "        print(\"Number is odd\")\n",
    "        show=(\"Number is odd\")\n",
    "    else:\n",
    "        print(\"Number is Even\")\n",
    "        show=(\"Number is even\")\n",
    "    return show"
   ]
  },
  {
   "cell_type": "code",
   "execution_count": 35,
   "id": "512c6f3a",
   "metadata": {},
   "outputs": [
    {
     "name": "stdout",
     "output_type": "stream",
     "text": [
      "Enter the value:3\n",
      "Number is odd\n"
     ]
    },
    {
     "data": {
      "text/plain": [
       "'Number is odd'"
      ]
     },
     "execution_count": 35,
     "metadata": {},
     "output_type": "execute_result"
    }
   ],
   "source": [
    "oddeven()"
   ]
  },
  {
   "cell_type": "code",
   "execution_count": 37,
   "id": "516fc81c",
   "metadata": {},
   "outputs": [
    {
     "name": "stdout",
     "output_type": "stream",
     "text": [
      "Enter the value:3\n",
      "Number is odd\n"
     ]
    }
   ],
   "source": [
    "Numbercategorty=oddeven()"
   ]
  },
  {
   "cell_type": "code",
   "execution_count": 38,
   "id": "52bef256",
   "metadata": {},
   "outputs": [
    {
     "data": {
      "text/plain": [
       "'Number is odd'"
      ]
     },
     "execution_count": 38,
     "metadata": {},
     "output_type": "execute_result"
    }
   ],
   "source": [
    "Numbercategorty"
   ]
  },
  {
   "cell_type": "code",
   "execution_count": null,
   "id": "df6c8a65",
   "metadata": {},
   "outputs": [],
   "source": []
  },
  {
   "cell_type": "code",
   "execution_count": 8,
   "id": "e2613893",
   "metadata": {},
   "outputs": [],
   "source": [
    "def Eligible():\n",
    "    gendar=input(\"your gendar:\")\n",
    "    age=int(input(\"your age\"))\n",
    "\n",
    "    if(gendar==\"male\"):\n",
    "        print(\"not eligible\")\n",
    "        show=(\"not eligible\")\n",
    "    else:\n",
    "        print(\"eligible\")\n",
    "        show=(\"not eligible\")\n",
    "    return show\n"
   ]
  },
  {
   "cell_type": "code",
   "execution_count": 9,
   "id": "d267d610",
   "metadata": {},
   "outputs": [
    {
     "name": "stdout",
     "output_type": "stream",
     "text": [
      "your gendar:male\n",
      "your age34\n",
      "not eligible\n"
     ]
    },
    {
     "data": {
      "text/plain": [
       "'not eligible'"
      ]
     },
     "execution_count": 9,
     "metadata": {},
     "output_type": "execute_result"
    }
   ],
   "source": [
    "Eligible()\n"
   ]
  },
  {
   "cell_type": "code",
   "execution_count": 10,
   "id": "44c8db18",
   "metadata": {},
   "outputs": [
    {
     "name": "stdout",
     "output_type": "stream",
     "text": [
      "your gendar:female\n",
      "your age35\n",
      "eligible\n"
     ]
    }
   ],
   "source": [
    "elible1=Eligible()"
   ]
  },
  {
   "cell_type": "code",
   "execution_count": 28,
   "id": "0bb68559",
   "metadata": {},
   "outputs": [],
   "source": [
    "def percentage():\n",
    "    sub1=23\n",
    "    sub2=45\n",
    "    sub3=34\n",
    "    sub4=23\n",
    "    sub5=23\n",
    "    Total=(sub1+sub2+sub3+sub4+sub5)\n",
    "    percentage=(Total/5)\n",
    "    return Total,percentage"
   ]
  },
  {
   "cell_type": "code",
   "execution_count": 24,
   "id": "3f99b504",
   "metadata": {},
   "outputs": [
    {
     "data": {
      "text/plain": [
       "(148, 29.6)"
      ]
     },
     "execution_count": 24,
     "metadata": {},
     "output_type": "execute_result"
    }
   ],
   "source": [
    "percentage()\n"
   ]
  },
  {
   "cell_type": "code",
   "execution_count": 52,
   "id": "6e67631d",
   "metadata": {},
   "outputs": [],
   "source": [
    "def triangle():\n",
    "    height=3\n",
    "    breadth=4\n",
    "    Area=(height*breadth)/2\n",
    "    height1=3\n",
    "    height2=4\n",
    "    breadth=45\n",
    "    perimeter=height1+height2+breadth\n",
    "    return Area,perimeter"
   ]
  },
  {
   "cell_type": "code",
   "execution_count": 53,
   "id": "91b46f1c",
   "metadata": {},
   "outputs": [
    {
     "data": {
      "text/plain": [
       "(6.0, 52)"
      ]
     },
     "execution_count": 53,
     "metadata": {},
     "output_type": "execute_result"
    }
   ],
   "source": [
    " triangle()"
   ]
  },
  {
   "cell_type": "code",
   "execution_count": 51,
   "id": "203d0da3",
   "metadata": {},
   "outputs": [
    {
     "data": {
      "text/plain": [
       "52"
      ]
     },
     "execution_count": 51,
     "metadata": {},
     "output_type": "execute_result"
    }
   ],
   "source": [
    " triangle()"
   ]
  },
  {
   "cell_type": "code",
   "execution_count": 54,
   "id": "01540ba2",
   "metadata": {},
   "outputs": [],
   "source": [
    "def subfields():\n",
    "    Subfields_in_AI_are=(\"Machine Learning,Neural NetworksVision,Robotics,Speech Processing,Natural Language Processing\")\n",
    "    return Subfields_in_AI_are"
   ]
  },
  {
   "cell_type": "code",
   "execution_count": 55,
   "id": "a89c4bf7",
   "metadata": {},
   "outputs": [
    {
     "data": {
      "text/plain": [
       "'Machine Learning,Neural NetworksVision,Robotics,Speech Processing,Natural Language Processing'"
      ]
     },
     "execution_count": 55,
     "metadata": {},
     "output_type": "execute_result"
    }
   ],
   "source": [
    "subfields()"
   ]
  },
  {
   "cell_type": "code",
   "execution_count": null,
   "id": "049e8e39",
   "metadata": {},
   "outputs": [],
   "source": []
  }
 ],
 "metadata": {
  "kernelspec": {
   "display_name": "Python 3 (ipykernel)",
   "language": "python",
   "name": "python3"
  },
  "language_info": {
   "codemirror_mode": {
    "name": "ipython",
    "version": 3
   },
   "file_extension": ".py",
   "mimetype": "text/x-python",
   "name": "python",
   "nbconvert_exporter": "python",
   "pygments_lexer": "ipython3",
   "version": "3.10.9"
  }
 },
 "nbformat": 4,
 "nbformat_minor": 5
}
